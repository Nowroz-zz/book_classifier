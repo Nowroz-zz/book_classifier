{
 "cells": [
  {
   "cell_type": "code",
   "execution_count": 1,
   "metadata": {},
   "outputs": [],
   "source": [
    "import numpy as np\n",
    "from PIL import Image\n",
    "import glob"
   ]
  },
  {
   "cell_type": "code",
   "execution_count": 72,
   "metadata": {},
   "outputs": [],
   "source": [
    "def load_train_data():\n",
    "    '''\n",
    "    Returns x_train, y_train\n",
    "    \n",
    "    x_train.shape = (320, 28, 28, 3)\n",
    "    y_train.shape = (320, 1)\n",
    "    '''\n",
    "    image_name_list_1a = glob.glob('dataset/train/1-a/*.jpg')\n",
    "    image_name_list_lb = glob.glob('dataset/train/1-b/*.jpg')\n",
    "    \n",
    "    num_train = len(image_name_list_1a) + len(image_name_list_lb)\n",
    "    \n",
    "    y_train = np.zeros((num_train, 1))\n",
    "    assert(y_train.shape == (num_train, 1))\n",
    "    \n",
    "    y_train[len(image_name_list_1a):,0] = 1\n",
    "\n",
    "    x_train = np.empty((num_train, 28, 28, 3))\n",
    "    assert(x_train.shape == (num_train, 28, 28, 3))\n",
    "    \n",
    "    i = 0\n",
    "    \n",
    "    for image_name in image_name_list_1a:\n",
    "        x_train[i] = np.asarray(Image.open(image_name).resize((28, 28)))\n",
    "        i += 1\n",
    "        \n",
    "    assert(i == num_train/2)\n",
    "    #Image.fromarray(x_train[50].astype('uint8')).show()\n",
    "    \n",
    "    for image_name in image_name_list_lb:\n",
    "        x_train[i] = np.asarray(Image.open(image_name).resize((28, 28)))\n",
    "        i += 1\n",
    "        \n",
    "    assert(i == num_train)\n",
    "    #Image.fromarray(x_train[175].astype('uint8')).show()\n",
    "    \n",
    "    np.random.seed(5)\n",
    "    np.random.shuffle(x_train)\n",
    "    \n",
    "    np.random.seed(5)\n",
    "    np.random.shuffle(y_train)\n",
    "    \n",
    "    #index = 50\n",
    "    #Image.fromarray(x_train[index].astype('uint8')).show()\n",
    "    #print(y_train[index])\n",
    "    \n",
    "    return x_train, y_train"
   ]
  },
  {
   "cell_type": "code",
   "execution_count": 71,
   "metadata": {},
   "outputs": [],
   "source": [
    "def load_test_data():\n",
    "    '''\n",
    "    Returns x_test, y_test\n",
    "    \n",
    "    x_test.shape = (20, 28, 28, 3)\n",
    "    y_test.shape = (20, 1)\n",
    "    '''\n",
    "    image_name_list_1a = glob.glob('dataset/test/1-a/*.jpg')\n",
    "    image_name_list_1b = glob.glob('dataset/test/1-b/*.jpg')\n",
    "    \n",
    "    num_test = len(image_name_list_1a) + len(image_name_list_1b)\n",
    "    \n",
    "    y_test = np.zeros((num_test, 1))\n",
    "    assert(y_test.shape == (num_test, 1))\n",
    "    \n",
    "    y_test[len(image_name_list_1a):, 0] = 1\n",
    "    \n",
    "    x_test = np.empty((num_test, 28, 28, 3))\n",
    "    assert(x_test.shape == (num_test, 28, 28, 3))\n",
    "    \n",
    "    i = 0\n",
    "    \n",
    "    for image_name in image_name_list_1a:\n",
    "        x_test[i] = np.asarray(Image.open(image_name).resize((28, 28)))\n",
    "        i += 1\n",
    "        \n",
    "    assert(i == num_test/2)\n",
    "    #Image.fromarray(x_test[5].astype('uint8')).show()\n",
    "    \n",
    "    for image_name in image_name_list_1b:\n",
    "        x_test[i] = np.asarray(Image.open(image_name).resize((28, 28)))\n",
    "        i += 1\n",
    "        \n",
    "    assert(i == num_test)\n",
    "    #Image.fromarray(x_test[12].astype('uint8')).show()\n",
    "    \n",
    "    np.random.seed(3)\n",
    "    np.random.shuffle(x_test)\n",
    "    \n",
    "    np.random.seed(3)\n",
    "    np.random.shuffle(y_test)\n",
    "    \n",
    "    return x_test, y_test"
   ]
  },
  {
   "cell_type": "code",
   "execution_count": 74,
   "metadata": {},
   "outputs": [
    {
     "name": "stdout",
     "output_type": "stream",
     "text": [
      "x_train.shape =  (320, 28, 28, 3)\n",
      "y_train.shape =  (320, 1)\n",
      "\n",
      "x_test.shape =  (20, 28, 28, 3)\n",
      "y_test.shape =  (20, 1)\n"
     ]
    }
   ],
   "source": [
    "if __name__ == '__main__':\n",
    "    x_train, y_train = load_train_data()\n",
    "    x_test, y_test = load_test_data()\n",
    "    \n",
    "    print(\"x_train.shape = \", x_train.shape)\n",
    "    print(\"y_train.shape = \", y_train.shape)\n",
    "    print()\n",
    "    print(\"x_test.shape = \", x_test.shape)\n",
    "    print(\"y_test.shape = \", y_test.shape)"
   ]
  }
 ],
 "metadata": {
  "kernelspec": {
   "display_name": "Python 3",
   "language": "python",
   "name": "python3"
  },
  "language_info": {
   "codemirror_mode": {
    "name": "ipython",
    "version": 3
   },
   "file_extension": ".py",
   "mimetype": "text/x-python",
   "name": "python",
   "nbconvert_exporter": "python",
   "pygments_lexer": "ipython3",
   "version": "3.8.2"
  }
 },
 "nbformat": 4,
 "nbformat_minor": 4
}
